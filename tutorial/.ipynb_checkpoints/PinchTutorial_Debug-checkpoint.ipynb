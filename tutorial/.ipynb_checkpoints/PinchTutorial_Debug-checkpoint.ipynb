{
 "cells": [
  {
   "cell_type": "markdown",
   "metadata": {},
   "source": [
    "# PyPinch: a Python-based Pinch Analyser\n",
    "\n",
    "PyPinch is a lightweight Python module that applies Pinch Technology principles, analysing a given set of stream data to find the Maximum Energy Recovery (MER) target.\n",
    "\n",
    "### Input: \n",
    "A CSV set of stream data including:\n",
    "- Stream Enthalpy CP (kW / ºC)\n",
    "- Stream Supply Temperature ($T_S$)\n",
    "- Stream Target Temperature ($T_T$)\n",
    "\n",
    "And a minimum temperature difference $\\Delta T_{min}$\n",
    "\n",
    "### Output:\n",
    "Currently, PyPinch can _calculate_, _plot_, and _export as CSV_ the following:\n",
    "- The Temperature Interval Diagram\n",
    "- The Problem Table\n",
    "- The Heat Cascade\n",
    "- The Minimum Cold Utility $Q_{Cmin}$ and the Minimum Hot Utility $Q_{Hmin}$\n",
    "- The Pinch Point $T_{pinch}$\n",
    "- The Shifted Temperature-Enthalpy Composite Diagram\n",
    "- The Temperature-Enthalpy Composite Diagram\n",
    "- The Grand Composite Curve\n",
    "\n",
    "---"
   ]
  },
  {
   "cell_type": "markdown",
   "metadata": {},
   "source": [
    "## Pinch Analysis or Heat Integration\n",
    "\n",
    "Pinch analysis is a methodology for systematically finding optimum energy targets for a chemical plant. It analyses thermodynamically feasible maximum energy recovery (MER) targets for the available streams in a given plant, achieving them by optimising heat exchanger networks, energy supply methods and process operating conditions (Kemp, Ian, _Pinch Analysis and Process Integration, 2nd Edition_, 2016).\n",
    "\n",
    "It is based on the idea that all streams in a chemical plant can be combined based on their temperature intervals into _composite curves_: one for the hot streams (the ones that lose heat) and one for the cold streams (the ones that gain heat). These composite curves provide insight into the point of closest approach (the _pinch point_) and the intervals available for heat exchange. Hence the required extra heating and cooling utilities can be found.\n",
    "\n",
    "---"
   ]
  },
  {
   "cell_type": "markdown",
   "metadata": {},
   "source": [
    "# Tutorial\n",
    "\n",
    "This is a step-by-step approach to using the PyPinch module, explaining the steps along the way. A quicker approach is available in the \"usage.py\" file.\n",
    "\n",
    "First, the PyPinch class is imported from the PyPinch.py file:"
   ]
  },
  {
   "cell_type": "code",
   "execution_count": 1,
   "metadata": {},
   "outputs": [],
   "source": [
    "from PyPinch import PyPinch"
   ]
  },
  {
   "cell_type": "markdown",
   "metadata": {},
   "source": [
    "The class is then instantiated, supplying the relative path of the _CSV stream datafile_.\n",
    "\n",
    "Options can be supplied as a set:\n",
    "- 'draw': draw Matplotlib-based plots\n",
    "- 'csv': export the calculated data as CSV files\n",
    "- 'debug': print the calculated data in the command-line"
   ]
  },
  {
   "cell_type": "code",
   "execution_count": 7,
   "metadata": {},
   "outputs": [],
   "source": [
    "options = {'debug'}\n",
    "pinch = PyPinch('./streams/AEStreamTable1.csv', options)"
   ]
  },
  {
   "cell_type": "markdown",
   "metadata": {},
   "source": [
    "The _shiftTemperatures_ method is called to (guessed it) shift the supplied temperatures:\n",
    "- Hot Streams ($T_S > T_T$) shift by $- \\Delta T_{min} / 2$\n",
    "- Cold Streams ($T_S < T_T$) shift by $+ \\Delta T_{min} / 2$\n",
    "\n",
    "The _constructTemperatureInterval_ method is called to... well, construct the Temperature Interval Diagram.\n",
    "To print the in-memory plots, call _showPlots_."
   ]
  },
  {
   "cell_type": "code",
   "execution_count": 8,
   "metadata": {},
   "outputs": [
    {
     "name": "stdout",
     "output_type": "stream",
     "text": [
      "\n",
      "Streams: \n",
      "{'type': 'COLD', 'cp': 175.453272, 'ts': 93.790304, 'tt': 150.0, 'ss': 93.790304, 'st': 150.0}\n",
      "{'type': 'COLD', 'cp': 226.374457, 'ts': 124.850263, 'tt': 619.999892, 'ss': 124.850263, 'st': 619.999892}\n",
      "{'type': 'COLD', 'cp': 29.584853, 'ts': 20.0, 'tt': 620.0, 'ss': 20.0, 'st': 620.0}\n",
      "{'type': 'HOT', 'cp': 124.0, 'ts': 620.0, 'tt': 2.0, 'ss': 620.0, 'st': 2.0}\n",
      "{'type': 'COLD', 'cp': 150.560459, 'ts': 0.547123, 'tt': 150.0, 'ss': 0.547123, 'st': 150.0}\n",
      "{'type': 'COLD', 'cp': 29.089416, 'ts': 20.0, 'tt': 150.0, 'ss': 20.0, 'st': 150.0}\n",
      "{'type': 'HOT', 'cp': 139.855395, 'ts': 150.0, 'tt': 25.0, 'ss': 150.0, 'st': 25.0}\n",
      "{'type': 'HOT', 'cp': 149.396949, 'ts': 25.0, 'tt': 23.100976, 'ss': 25.0, 'st': 23.100976}\n",
      "{'type': 'COLD', 'cp': 29.392114, 'ts': 24.999994, 'tt': 150.0, 'ss': 24.999994, 'st': 150.0}\n",
      "{'type': 'COLD', 'cp': 199.685133, 'ts': 20.0, 'tt': 100.0, 'ss': 20.0, 'st': 100.0}\n",
      "{'type': 'COLD', 'cp': 109.971456, 'ts': 56.389812, 'tt': 96.018129, 'ss': 56.389812, 'st': 96.018129}\n",
      "{'type': 'COLD', 'cp': 175.036024, 'ts': 61.796286, 'tt': 80.0, 'ss': 61.796286, 'st': 80.0}\n",
      "{'type': 'COLD', 'cp': 142.980199, 'ts': 15.741638, 'tt': 80.0, 'ss': 15.741638, 'st': 80.0}\n",
      "{'type': 'HOT', 'cp': 184.915226, 'ts': 96.189753, 'tt': 80.0, 'ss': 96.189753, 'st': 80.0}\n",
      "Tmin = 10.0\n",
      "\n",
      "Temperature Intervals: \n",
      "Interval 0 : {'t1': 630.0, 't2': 620.0, 'streamNumbers': []}\n",
      "Interval 1 : {'t1': 620.0, 't2': 619.999892, 'streamNumbers': [2, 3]}\n",
      "Interval 2 : {'t1': 619.999892, 't2': 160.0, 'streamNumbers': [1, 2, 3]}\n",
      "Interval 3 : {'t1': 160.0, 't2': 150.0, 'streamNumbers': [1, 2, 3]}\n",
      "Interval 4 : {'t1': 150.0, 't2': 124.850263, 'streamNumbers': [0, 1, 2, 3, 4, 5, 6, 8]}\n",
      "Interval 5 : {'t1': 124.850263, 't2': 106.189753, 'streamNumbers': [0, 2, 3, 4, 5, 6, 8]}\n",
      "Interval 6 : {'t1': 106.189753, 't2': 100.0, 'streamNumbers': [0, 2, 3, 4, 5, 6, 8]}\n",
      "Interval 7 : {'t1': 100.0, 't2': 96.018129, 'streamNumbers': [0, 2, 3, 4, 5, 6, 8, 9]}\n",
      "Interval 8 : {'t1': 96.018129, 't2': 93.790304, 'streamNumbers': [0, 2, 3, 4, 5, 6, 8, 9, 10, 13]}\n",
      "Interval 9 : {'t1': 93.790304, 't2': 90.0, 'streamNumbers': [2, 3, 4, 5, 6, 8, 9, 10, 13]}\n",
      "Interval 10 : {'t1': 90.0, 't2': 80.0, 'streamNumbers': [2, 3, 4, 5, 6, 8, 9, 10, 13]}\n",
      "Interval 11 : {'t1': 80.0, 't2': 61.796286, 'streamNumbers': [2, 3, 4, 5, 6, 8, 9, 10, 11, 12]}\n",
      "Interval 12 : {'t1': 61.796286, 't2': 56.389812, 'streamNumbers': [2, 3, 4, 5, 6, 8, 9, 10, 12]}\n",
      "Interval 13 : {'t1': 56.389812, 't2': 35.0, 'streamNumbers': [2, 3, 4, 5, 6, 8, 9, 12]}\n",
      "Interval 14 : {'t1': 35.0, 't2': 33.100976, 'streamNumbers': [2, 3, 4, 5, 6, 8, 9, 12]}\n",
      "Interval 15 : {'t1': 33.100976, 't2': 24.999994, 'streamNumbers': [2, 3, 4, 5, 8, 9, 12]}\n",
      "Interval 16 : {'t1': 24.999994, 't2': 20.0, 'streamNumbers': [2, 3, 4, 5, 9, 12]}\n",
      "Interval 17 : {'t1': 20.0, 't2': 15.741638, 'streamNumbers': [3, 4, 12]}\n",
      "Interval 18 : {'t1': 15.741638, 't2': 12.0, 'streamNumbers': [3, 4]}\n",
      "Interval 19 : {'t1': 12.0, 't2': 0.547123, 'streamNumbers': [4]}\n"
     ]
    }
   ],
   "source": [
    "pinch.shiftTemperatures()\n",
    "pinch.constructTemperatureInterval()\n",
    "pinch.showPlots()"
   ]
  },
  {
   "cell_type": "markdown",
   "metadata": {},
   "source": [
    "Based on each temperature interval, the associated enthalpy changed can be calculated as:\n",
    "$\\Delta H = \\Delta CP \\times \\Delta S$\n",
    "\n",
    "Where:\n",
    "$\\Delta CP = \\Sigma CP_{HOT} - \\Sigma CP_{COLD}$\n",
    "\n",
    "All this can be summarised in a _Problem Table_, constructed using... some command."
   ]
  },
  {
   "cell_type": "code",
   "execution_count": 9,
   "metadata": {},
   "outputs": [
    {
     "name": "stdout",
     "output_type": "stream",
     "text": [
      "\n",
      "Problem Table: \n",
      "Interval 0 : {'deltaS': 10.0, 'deltaCP': 0, 'deltaH': 0.0}\n",
      "Interval 1 : {'deltaS': 0.00010799999995469989, 'deltaCP': 94.415147, 'deltaH': 0.010196835871722983}\n",
      "Interval 2 : {'deltaS': 459.99989200000005, 'deltaCP': -131.95931000000002, 'deltaH': -60701.26834839454}\n",
      "Interval 3 : {'deltaS': 10.0, 'deltaCP': -131.95931000000002, 'deltaH': -1319.5931}\n",
      "Interval 4 : {'deltaS': 25.149737000000002, 'deltaCP': -376.599176, 'deltaH': -9471.370230816712}\n",
      "Interval 5 : {'deltaS': 18.660510000000002, 'deltaCP': -150.224719, 'deltaH': -2803.26987114669}\n",
      "Interval 6 : {'deltaS': 6.189752999999996, 'deltaCP': -150.224719, 'deltaH': -929.8539051044064}\n",
      "Interval 7 : {'deltaS': 3.981870999999998, 'deltaCP': -349.909852, 'deltaH': -1393.2958922930914}\n",
      "Interval 8 : {'deltaS': 2.2278249999999957, 'deltaCP': -274.96608200000003, 'deltaH': -612.5763116316489}\n",
      "Interval 9 : {'deltaS': 3.790304000000006, 'deltaCP': -99.51281000000003, 'deltaH': -377.1838017942407}\n",
      "Interval 10 : {'deltaS': 10.0, 'deltaCP': -99.51281000000003, 'deltaH': -995.1281000000004}\n",
      "Interval 11 : {'deltaS': 18.203713999999998, 'deltaCP': -602.444259, 'deltaH': -10966.722991777924}\n",
      "Interval 12 : {'deltaS': 5.406474000000003, 'deltaCP': -427.408235, 'deltaH': -2310.771509913391}\n",
      "Interval 13 : {'deltaS': 21.389812, 'deltaCP': -317.436779, 'deltaH': -6789.913024695547}\n",
      "Interval 14 : {'deltaS': 1.8990239999999972, 'deltaCP': -317.436779, 'deltaH': -602.8200618036951}\n",
      "Interval 15 : {'deltaS': 8.100982000000002, 'deltaCP': -457.29217400000005, 'deltaH': -3704.515670314869}\n",
      "Interval 16 : {'deltaS': 4.999994000000001, 'deltaCP': -427.90006000000005, 'deltaH': -2139.4977325996406}\n",
      "Interval 17 : {'deltaS': 4.258362, 'deltaCP': -169.540658, 'deltaH': -721.965495482196}\n",
      "Interval 18 : {'deltaS': 3.741638, 'deltaCP': -26.56045900000001, 'deltaH': -99.37962269184203}\n",
      "Interval 19 : {'deltaS': 11.452877, 'deltaCP': -150.560459, 'deltaH': -1724.3504179905433}\n"
     ]
    }
   ],
   "source": [
    "pinch.constructProblemTable()\n",
    "pinch.showPlots()"
   ]
  },
  {
   "cell_type": "markdown",
   "metadata": {},
   "source": [
    "Using the enthalpy change $\\Delta H$ of each interval from the Problem Table, a Heat Cascade can be constructed. This depicts the available energy that can be passed down from each interval to the next.\n",
    "\n",
    "Using the Heat Cascade, the Minimum Hot Utility $Q_{Hmin}$, Minimum Cold Utility $Q_{Cmin}$ and the Pinch Temperature $T_{PINCH}$ (the temperature at which the energy passed is zero)."
   ]
  },
  {
   "cell_type": "code",
   "execution_count": 10,
   "metadata": {},
   "outputs": [
    {
     "name": "stdout",
     "output_type": "stream",
     "text": [
      "\n",
      "Unfeasible Heat Cascade: \n",
      "Interval 0 : {'deltaH': 0.0, 'exitH': 0.0}\n",
      "Interval 1 : {'deltaH': 0.010196835871722983, 'exitH': 0.010196835871722983}\n",
      "Interval 2 : {'deltaH': -60701.26834839454, 'exitH': -60701.258151558664}\n",
      "Interval 3 : {'deltaH': -1319.5931, 'exitH': -62020.85125155866}\n",
      "Interval 4 : {'deltaH': -9471.370230816712, 'exitH': -71492.22148237537}\n",
      "Interval 5 : {'deltaH': -2803.26987114669, 'exitH': -74295.49135352207}\n",
      "Interval 6 : {'deltaH': -929.8539051044064, 'exitH': -75225.34525862648}\n",
      "Interval 7 : {'deltaH': -1393.2958922930914, 'exitH': -76618.64115091956}\n",
      "Interval 8 : {'deltaH': -612.5763116316489, 'exitH': -77231.21746255121}\n",
      "Interval 9 : {'deltaH': -377.1838017942407, 'exitH': -77608.40126434545}\n",
      "Interval 10 : {'deltaH': -995.1281000000004, 'exitH': -78603.52936434545}\n",
      "Interval 11 : {'deltaH': -10966.722991777924, 'exitH': -89570.25235612337}\n",
      "Interval 12 : {'deltaH': -2310.771509913391, 'exitH': -91881.02386603676}\n",
      "Interval 13 : {'deltaH': -6789.913024695547, 'exitH': -98670.93689073231}\n",
      "Interval 14 : {'deltaH': -602.8200618036951, 'exitH': -99273.756952536}\n",
      "Interval 15 : {'deltaH': -3704.515670314869, 'exitH': -102978.27262285087}\n",
      "Interval 16 : {'deltaH': -2139.4977325996406, 'exitH': -105117.77035545051}\n",
      "Interval 17 : {'deltaH': -721.965495482196, 'exitH': -105839.7358509327}\n",
      "Interval 18 : {'deltaH': -99.37962269184203, 'exitH': -105939.11547362454}\n",
      "Interval 19 : {'deltaH': -1724.3504179905433, 'exitH': -107663.46589161508}\n",
      "\n",
      "Feasible Heat Cascade: \n",
      "Interval 0 : {'deltaH': 0.0, 'exitH': 107663.46589161508}\n",
      "Interval 1 : {'deltaH': 0.010196835871722983, 'exitH': 107663.47608845095}\n",
      "Interval 2 : {'deltaH': -60701.26834839454, 'exitH': 46962.20774005641}\n",
      "Interval 3 : {'deltaH': -1319.5931, 'exitH': 45642.61464005641}\n",
      "Interval 4 : {'deltaH': -9471.370230816712, 'exitH': 36171.2444092397}\n",
      "Interval 5 : {'deltaH': -2803.26987114669, 'exitH': 33367.97453809301}\n",
      "Interval 6 : {'deltaH': -929.8539051044064, 'exitH': 32438.120632988604}\n",
      "Interval 7 : {'deltaH': -1393.2958922930914, 'exitH': 31044.824740695512}\n",
      "Interval 8 : {'deltaH': -612.5763116316489, 'exitH': 30432.248429063864}\n",
      "Interval 9 : {'deltaH': -377.1838017942407, 'exitH': 30055.064627269625}\n",
      "Interval 10 : {'deltaH': -995.1281000000004, 'exitH': 29059.936527269623}\n",
      "Interval 11 : {'deltaH': -10966.722991777924, 'exitH': 18093.213535491697}\n",
      "Interval 12 : {'deltaH': -2310.771509913391, 'exitH': 15782.442025578306}\n",
      "Interval 13 : {'deltaH': -6789.913024695547, 'exitH': 8992.529000882758}\n",
      "Interval 14 : {'deltaH': -602.8200618036951, 'exitH': 8389.708939079062}\n",
      "Interval 15 : {'deltaH': -3704.515670314869, 'exitH': 4685.193268764193}\n",
      "Interval 16 : {'deltaH': -2139.4977325996406, 'exitH': 2545.6955361645523}\n",
      "Interval 17 : {'deltaH': -721.965495482196, 'exitH': 1823.7300406823563}\n",
      "Interval 18 : {'deltaH': -99.37962269184203, 'exitH': 1724.3504179905142}\n",
      "Interval 19 : {'deltaH': -1724.3504179905433, 'exitH': -2.9103830456733704e-11}\n",
      "\n",
      "Pinch Temperature (degC): 0.547123\n",
      "Minimum Hot Utility (kW): 107663.46589161508\n",
      "Minimum Cold Utility (kW): -2.9103830456733704e-11\n"
     ]
    }
   ],
   "source": [
    "pinch.constructHeatCascade()\n",
    "pinch.showPlots()"
   ]
  },
  {
   "cell_type": "markdown",
   "metadata": {},
   "source": [
    "All Hot Streams and Cold Streams can be combined into Hot and Cold Composite Streams, respectively:\n",
    "\n",
    "$\\Delta H_{HOT} = CP_{HOT} \\times \\Delta T_i$\n",
    "$\\Delta H_{COLD} = CP_{COLD} \\times \\Delta T_i$\n",
    "\n",
    "Where $CP_{HOT}$ is the sum of the Hot Streams' CPs on a given temperature interval $T_i$. Analog for $CP_{COLD}$.\n",
    "Using this information, the Shifted Temperature-Enthalpy Composite Diagram can be constructed.\n",
    "\n",
    "The minimum cold utility $Q_{Cmin}$ (kW) is shaded in blue, while the minimum hot utility $Q_{Hmin}$ is shaded in red. These areas correspond to the regions in which no heat exchange can take place: where the graphs do not superimpose. \n",
    "\n",
    "The Pinch point is the point of closest approach between the two composite curves. It is shown with a dotted line. The Pinch point Temperature $T_{pinch}$ corresponds to the one found in the Heat Cascade."
   ]
  },
  {
   "cell_type": "code",
   "execution_count": 18,
   "metadata": {},
   "outputs": [
    {
     "name": "stdout",
     "output_type": "stream",
     "text": [
      "\n",
      "Shifted Composite Diagram Values: \n",
      "DeltaH Hot: [0.0, 528.036888, 248.0, 371.9992560000001, 2244.521768, 501.06772763447924, 3005.2633442357396, 1426.5273328272308, 4803.1481479370295, 6188.683289858787, 999.782408729323, 1050.6381455440444, 4271.753672767434, 2285.1222869514504, 6635.893790281115, 2480.0, 55799.98660800001, 0.013391999994382786, 0.0]\n",
      "DeltaH Cold: [2287.693152682385, 1250.0023834821961, 1103.80012, 1655.6968685996408, 10521.95917831487, 1103.8877894381744, 6620.808578931288, 3737.298842740622, 15769.871139714955, 7560.995191653028, 1612.358720360972, 2443.934037837136, 6703.85476787184, 3586.144968098141, 16107.264021097828, 5119.1862, 115181.66185639454, 0.003195164122659803, 0.0]\n",
      "\n",
      "Hot H: [0.0, 528.036888, 776.036888, 1148.0361440000001, 3392.557912, 3893.6256396344793, 6898.888983870219, 8325.41631669745, 13128.56446463448, 19317.24775449327, 20317.030163222593, 21367.66830876664, 25639.421981534073, 27924.544268485522, 34560.43805876664, 37040.43805876664, 92840.42466676664, 92840.43805876664]\n",
      "Hot T: [0.547123, 20.0, 22.0, 24.999994, 43.100976, 45.0, 56.389812, 61.796286, 80.0, 93.790304, 96.018129, 100.0, 116.189753, 124.850263, 150.0, 170.0, 619.999892, 620.0]\n",
      "\n",
      "Cold H: [-3.1377567211166024e-11, 2287.6931526823537, 3537.6955361645496, 4641.4956561645495, 6297.19252476419, 16819.15170307906, 17923.039492517233, 24543.84807144852, 28281.146914189143, 44051.018053904096, 51612.01324555712, 53224.37196591809, 55668.30600375523, 62372.16077162707, 65958.30573972521, 82065.56976082304, 87184.75596082304, 202366.4178172176, 202366.4210123817]\n",
      "Cold T: [0.547123, 15.741638, 20.0, 22.0, 24.999994, 43.100976, 45.0, 56.389812, 61.796286, 80.0, 93.790304, 96.018129, 100.0, 116.189753, 124.850263, 150.0, 170.0, 619.999892, 620.0]\n"
     ]
    }
   ],
   "source": [
    "pinch.constructShiftedCompositeDiagram()\n",
    "pinch.showPlots()"
   ]
  },
  {
   "cell_type": "markdown",
   "metadata": {},
   "source": [
    "Based on the Shifted Composite diagram, the Actual Temperature-Enthalpy Composite Diagram can be constructed: the hot streams have their temperatures shifted up by $\\Delta T_{min} / 2$ and the cold streams have their temperatures shifted down by $\\Delta T_{min} / 2$. Note that this is the inverse operation from what was done in the beginning, upon calling the _shiftTemperatures_ method."
   ]
  },
  {
   "cell_type": "code",
   "execution_count": 7,
   "metadata": {},
   "outputs": [],
   "source": [
    "pinch.constructCompositeDiagram()\n",
    "pinch.showPlots()"
   ]
  },
  {
   "cell_type": "markdown",
   "metadata": {},
   "source": [
    "Based on the Net Enthalpy Change in each interval (depicted in the Problem Table), the Grand Composite Curve can be constructed. Therefore, it can be seen as the graphical representation of the Problem Table.\n",
    "\n",
    "As before, the minimum cold utility $Q_{Cmin}$ (kW) is shaded in blue, while the minimum hot utility $Q_{Hmin}$ is shaded in red.\n",
    "\n",
    "The Pinch Point corresponds to the point of zero net enthalpy change between two adjacent intervals. It is shown with a dotted line at the Pinch Temperature $T_{pinch}$."
   ]
  },
  {
   "cell_type": "code",
   "execution_count": 8,
   "metadata": {
    "scrolled": true
   },
   "outputs": [
    {
     "name": "stdout",
     "output_type": "stream",
     "text": [
      "\n",
      "Grand Composite Curve: \n",
      "Net H (kW): [107663.46589161508, 107663.46589161508, 107663.47608845095, 46962.20774005641, 45642.61464005641, 36171.2444092397, 33367.97453809301, 32438.120632988604, 31044.824740695512, 30432.248429063864, 30055.064627269625, 29059.936527269623, 18093.213535491697, 15782.442025578306, 8992.529000882758, 8389.708939079062, 4685.193268764193, 2545.6955361645523, 1823.7300406823563, 1724.3504179905142, -2.9103830456733704e-11]\n",
      "T (degC): [630.0, 620.0, 619.999892, 160.0, 150.0, 124.850263, 106.189753, 100.0, 96.018129, 93.790304, 90.0, 80.0, 61.796286, 56.389812, 35.0, 33.100976, 24.999994, 20.0, 15.741638, 12.0, 0.547123]\n"
     ]
    }
   ],
   "source": [
    "pinch.constructGrandCompositeCurve()\n",
    "pinch.showPlots()"
   ]
  },
  {
   "cell_type": "markdown",
   "metadata": {},
   "source": [
    "## Future Work\n",
    "\n",
    "Based on the calculated energy requirements, a _Heat Exchanger network_ can be constructed which would achieve the maximum heat recovery. This would be based upon splitting the streams' energy changes above and below the Pinch Point, with no heat exchange over it.\n",
    "\n",
    "If _energy relaxation_ is allowed (heat exchange over the Pinch Point), another Heat Exchanger network could be constructed which would reduce the number of heat exchanger units (and hence the Capital Cost) at the expense of larger Hot and Cold Utilities (and hence Running Costs). This reduction is only possible when there is a heat exchange loop over the Pinch.\n"
   ]
  },
  {
   "cell_type": "code",
   "execution_count": null,
   "metadata": {},
   "outputs": [],
   "source": []
  }
 ],
 "metadata": {
  "kernelspec": {
   "display_name": "Python 3 (ipykernel)",
   "language": "python",
   "name": "python3"
  },
  "language_info": {
   "codemirror_mode": {
    "name": "ipython",
    "version": 3
   },
   "file_extension": ".py",
   "mimetype": "text/x-python",
   "name": "python",
   "nbconvert_exporter": "python",
   "pygments_lexer": "ipython3",
   "version": "3.10.9"
  }
 },
 "nbformat": 4,
 "nbformat_minor": 2
}
