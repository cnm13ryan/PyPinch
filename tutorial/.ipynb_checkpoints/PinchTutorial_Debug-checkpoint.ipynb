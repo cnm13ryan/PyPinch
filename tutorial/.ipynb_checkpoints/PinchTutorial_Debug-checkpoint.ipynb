{
 "cells": [
  {
   "cell_type": "markdown",
   "metadata": {},
   "source": [
    "# PyPinch: a Python-based Pinch Analyser\n",
    "\n",
    "PyPinch is a lightweight Python module that applies Pinch Technology principles, analysing a given set of stream data to find the Maximum Energy Recovery (MER) target.\n",
    "\n",
    "### Input: \n",
    "A CSV set of stream data including:\n",
    "- Stream Enthalpy CP (kW / ºC)\n",
    "- Stream Supply Temperature ($T_S$)\n",
    "- Stream Target Temperature ($T_T$)\n",
    "\n",
    "And a minimum temperature difference $\\Delta T_{min}$\n",
    "\n",
    "### Output:\n",
    "Currently, PyPinch can _calculate_, _plot_, and _export as CSV_ the following:\n",
    "- The Temperature Interval Diagram\n",
    "- The Problem Table\n",
    "- The Heat Cascade\n",
    "- The Minimum Cold Utility $Q_{Cmin}$ and the Minimum Hot Utility $Q_{Hmin}$\n",
    "- The Pinch Point $T_{pinch}$\n",
    "- The Shifted Temperature-Enthalpy Composite Diagram\n",
    "- The Temperature-Enthalpy Composite Diagram\n",
    "- The Grand Composite Curve\n",
    "\n",
    "---"
   ]
  },
  {
   "cell_type": "markdown",
   "metadata": {},
   "source": [
    "## Pinch Analysis or Heat Integration\n",
    "\n",
    "Pinch analysis is a methodology for systematically finding optimum energy targets for a chemical plant. It analyses thermodynamically feasible maximum energy recovery (MER) targets for the available streams in a given plant, achieving them by optimising heat exchanger networks, energy supply methods and process operating conditions (Kemp, Ian, _Pinch Analysis and Process Integration, 2nd Edition_, 2016).\n",
    "\n",
    "It is based on the idea that all streams in a chemical plant can be combined based on their temperature intervals into _composite curves_: one for the hot streams (the ones that lose heat) and one for the cold streams (the ones that gain heat). These composite curves provide insight into the point of closest approach (the _pinch point_) and the intervals available for heat exchange. Hence the required extra heating and cooling utilities can be found.\n",
    "\n",
    "---"
   ]
  },
  {
   "cell_type": "markdown",
   "metadata": {},
   "source": [
    "# Tutorial\n",
    "\n",
    "This is a step-by-step approach to using the PyPinch module, explaining the steps along the way. A quicker approach is available in the \"usage.py\" file.\n",
    "\n",
    "First, the PyPinch class is imported from the PyPinch.py file:"
   ]
  },
  {
   "cell_type": "code",
   "execution_count": 1,
   "metadata": {},
   "outputs": [],
   "source": [
    "from PyPinch import PyPinch\n"
   ]
  },
  {
   "cell_type": "markdown",
   "metadata": {},
   "source": [
    "The class is then instantiated, supplying the relative path of the _CSV stream datafile_.\n",
    "\n",
    "Options can be supplied as a set:\n",
    "- 'draw': draw Matplotlib-based plots\n",
    "- 'csv': export the calculated data as CSV files\n",
    "- 'debug': print the calculated data in the command-line"
   ]
  },
  {
   "cell_type": "code",
   "execution_count": 2,
   "metadata": {},
   "outputs": [],
   "source": [
    "options = {'debug'}\n",
    "pinch = PyPinch('./streams/manystreams-Copy1.csv', options)"
   ]
  },
  {
   "cell_type": "markdown",
   "metadata": {},
   "source": [
    "The _shiftTemperatures_ method is called to (guessed it) shift the supplied temperatures:\n",
    "- Hot Streams ($T_S > T_T$) shift by $- \\Delta T_{min} / 2$\n",
    "- Cold Streams ($T_S < T_T$) shift by $+ \\Delta T_{min} / 2$\n",
    "\n",
    "The _constructTemperatureInterval_ method is called to... well, construct the Temperature Interval Diagram.\n",
    "To print the in-memory plots, call _showPlots_."
   ]
  },
  {
   "cell_type": "code",
   "execution_count": 3,
   "metadata": {},
   "outputs": [
    {
     "name": "stdout",
     "output_type": "stream",
     "text": [
      "\n",
      "Streams: \n",
      "{'type': 'COLD', 'cp': 18.788257, 'ts': 124.918722, 'tt': 498.0, 'ss': 124.918722, 'st': 498.0}\n",
      "{'type': 'HOT', 'cp': 2.133744, 'ts': 719.063689, 'tt': 620.0, 'ss': 719.063689, 'st': 620.0}\n",
      "{'type': 'HOT', 'cp': 17.831637, 'ts': 500.753518, 'tt': 2.0, 'ss': 500.753518, 'st': 2.0}\n",
      "{'type': 'COLD', 'cp': 0.093274, 'ts': 129.316828, 'tt': 620.0, 'ss': 129.316828, 'st': 620.0}\n",
      "{'type': 'COLD', 'cp': 7.042276, 'ts': 7.011657, 'tt': 150.0, 'ss': 7.011657, 'st': 150.0}\n",
      "{'type': 'HOT', 'cp': 13.077625, 'ts': 150.0, 'tt': 25.0, 'ss': 150.0, 'st': 25.0}\n",
      "{'type': 'COLD', 'cp': 0.074072, 'ts': 24.999994, 'tt': 150.0, 'ss': 24.999994, 'st': 150.0}\n",
      "{'type': 'COLD', 'cp': 8.149016, 'ts': 99.634877, 'tt': 150.0, 'ss': 99.634877, 'st': 150.0}\n",
      "{'type': 'HOT', 'cp': 4.064252, 'ts': 170.378079, 'tt': 150.0, 'ss': 170.378079, 'st': 150.0}\n",
      "{'type': 'HOT', 'cp': 13.073842, 'ts': 191.510967, 'tt': 100.0, 'ss': 191.510967, 'st': 100.0}\n",
      "{'type': 'COLD', 'cp': 4.007534, 'ts': 19.064709, 'tt': 80.0, 'ss': 19.064709, 'st': 80.0}\n",
      "{'type': 'COLD', 'cp': 6.162828, 'ts': 64.353181, 'tt': 80.0, 'ss': 64.353181, 'st': 80.0}\n",
      "{'type': 'HOT', 'cp': 4.858099, 'ts': 97.219482, 'tt': 80.0, 'ss': 97.219482, 'st': 80.0}\n",
      "Tmin = 20.0\n",
      "\n",
      "Temperature Intervals: \n",
      "Interval 0 : {'t1': 739.063689, 't2': 640.0, 'streamNumbers': []}\n",
      "Interval 1 : {'t1': 640.0, 't2': 620.0, 'streamNumbers': [1]}\n",
      "Interval 2 : {'t1': 620.0, 't2': 520.753518, 'streamNumbers': [3]}\n",
      "Interval 3 : {'t1': 520.753518, 't2': 498.0, 'streamNumbers': [3]}\n",
      "Interval 4 : {'t1': 498.0, 't2': 211.510967, 'streamNumbers': [0, 2, 3]}\n",
      "Interval 5 : {'t1': 211.510967, 't2': 190.378079, 'streamNumbers': [0, 2, 3]}\n",
      "Interval 6 : {'t1': 190.378079, 't2': 170.0, 'streamNumbers': [0, 2, 3, 9]}\n",
      "Interval 7 : {'t1': 170.0, 't2': 150.0, 'streamNumbers': [0, 2, 3, 8, 9]}\n",
      "Interval 8 : {'t1': 150.0, 't2': 129.316828, 'streamNumbers': [0, 2, 3, 4, 5, 6, 7, 9]}\n",
      "Interval 9 : {'t1': 129.316828, 't2': 124.918722, 'streamNumbers': [0, 2, 4, 5, 6, 7, 9]}\n",
      "Interval 10 : {'t1': 124.918722, 't2': 120.0, 'streamNumbers': [2, 4, 5, 6, 7, 9]}\n",
      "Interval 11 : {'t1': 120.0, 't2': 117.219482, 'streamNumbers': [2, 4, 5, 6, 7, 9]}\n",
      "Interval 12 : {'t1': 117.219482, 't2': 100.0, 'streamNumbers': [2, 4, 5, 6, 7, 9]}\n",
      "Interval 13 : {'t1': 100.0, 't2': 99.634877, 'streamNumbers': [2, 4, 5, 6, 7]}\n",
      "Interval 14 : {'t1': 99.634877, 't2': 80.0, 'streamNumbers': [2, 4, 5, 6]}\n",
      "Interval 15 : {'t1': 80.0, 't2': 64.353181, 'streamNumbers': [2, 4, 5, 6, 10, 11]}\n",
      "Interval 16 : {'t1': 64.353181, 't2': 45.0, 'streamNumbers': [2, 4, 5, 6, 10]}\n",
      "Interval 17 : {'t1': 45.0, 't2': 24.999994, 'streamNumbers': [2, 4, 6, 10]}\n",
      "Interval 18 : {'t1': 24.999994, 't2': 22.0, 'streamNumbers': [2, 4, 10]}\n",
      "Interval 19 : {'t1': 22.0, 't2': 19.064709, 'streamNumbers': [2, 4, 10]}\n",
      "Interval 20 : {'t1': 19.064709, 't2': 7.011657, 'streamNumbers': [2, 4]}\n"
     ]
    }
   ],
   "source": [
    "pinch.shiftTemperatures()\n",
    "pinch.constructTemperatureInterval()\n",
    "pinch.showPlots()"
   ]
  },
  {
   "cell_type": "markdown",
   "metadata": {},
   "source": [
    "Based on each temperature interval, the associated enthalpy changed can be calculated as:\n",
    "$\\Delta H = \\Delta CP \\times \\Delta S$\n",
    "\n",
    "Where:\n",
    "$\\Delta CP = \\Sigma CP_{HOT} - \\Sigma CP_{COLD}$\n",
    "\n",
    "All this can be summarised in a _Problem Table_, constructed using... some command."
   ]
  },
  {
   "cell_type": "code",
   "execution_count": 4,
   "metadata": {},
   "outputs": [
    {
     "name": "stdout",
     "output_type": "stream",
     "text": [
      "\n",
      "Problem Table: \n",
      "Interval 0 : {'deltaS': 99.06368899999995, 'deltaCP': 0, 'deltaH': 0.0}\n",
      "Interval 1 : {'deltaS': 20.0, 'deltaCP': 2.133744, 'deltaH': 42.67488}\n",
      "Interval 2 : {'deltaS': 99.24648200000001, 'deltaCP': -0.093274, 'deltaH': -9.257116362068}\n",
      "Interval 3 : {'deltaS': 22.753517999999985, 'deltaCP': -0.093274, 'deltaH': -2.1223116379319986}\n",
      "Interval 4 : {'deltaS': 286.489033, 'deltaCP': -1.049894000000001, 'deltaH': -300.78311681250227}\n",
      "Interval 5 : {'deltaS': 21.13288799999998, 'deltaCP': -1.049894000000001, 'deltaH': -22.187292313872}\n",
      "Interval 6 : {'deltaS': 20.378079000000014, 'deltaCP': 12.023948, 'deltaH': 245.0249622358922}\n",
      "Interval 7 : {'deltaS': 20.0, 'deltaCP': 16.0882, 'deltaH': 321.764}\n",
      "Interval 8 : {'deltaS': 20.683172000000013, 'deltaCP': 9.836209, 'deltaH': 203.44400257494814}\n",
      "Interval 9 : {'deltaS': 4.398105999999984, 'deltaCP': 9.929483, 'deltaH': 43.67091875919784}\n",
      "Interval 10 : {'deltaS': 4.9187220000000025, 'deltaCP': 28.71774, 'deltaH': 141.25457952828006}\n",
      "Interval 11 : {'deltaS': 2.7805180000000007, 'deltaCP': 28.71774, 'deltaH': 79.85019298932002}\n",
      "Interval 12 : {'deltaS': 17.219482, 'deltaCP': 28.71774, 'deltaH': 494.50460701068}\n",
      "Interval 13 : {'deltaS': 0.365122999999997, 'deltaCP': 15.643897999999997, 'deltaH': 5.711946969453951}\n",
      "Interval 14 : {'deltaS': 19.634877000000003, 'deltaCP': 23.792913999999996, 'deltaH': 467.170939861578}\n",
      "Interval 15 : {'deltaS': 15.646818999999994, 'deltaCP': 13.622551999999995, 'deltaH': 213.14960546208783}\n",
      "Interval 16 : {'deltaS': 19.353181000000006, 'deltaCP': 19.785379999999996, 'deltaH': 382.91004029378007}\n",
      "Interval 17 : {'deltaS': 20.000006, 'deltaCP': 6.707755000000001, 'deltaH': 134.15514024653}\n",
      "Interval 18 : {'deltaS': 2.999994000000001, 'deltaCP': 6.781827, 'deltaH': 20.345440309038008}\n",
      "Interval 19 : {'deltaS': 2.9352909999999994, 'deltaCP': 6.781827, 'deltaH': 19.906635756656996}\n",
      "Interval 20 : {'deltaS': 12.053052000000001, 'deltaCP': 10.789361, 'deltaH': 130.044729179772}\n"
     ]
    }
   ],
   "source": [
    "pinch.constructProblemTable()\n",
    "pinch.showPlots()"
   ]
  },
  {
   "cell_type": "markdown",
   "metadata": {},
   "source": [
    "Using the enthalpy change $\\Delta H$ of each interval from the Problem Table, a Heat Cascade can be constructed. This depicts the available energy that can be passed down from each interval to the next.\n",
    "\n",
    "Using the Heat Cascade, the Minimum Hot Utility $Q_{Hmin}$, Minimum Cold Utility $Q_{Cmin}$ and the Pinch Temperature $T_{PINCH}$ (the temperature at which the energy passed is zero)."
   ]
  },
  {
   "cell_type": "code",
   "execution_count": 5,
   "metadata": {},
   "outputs": [
    {
     "name": "stdout",
     "output_type": "stream",
     "text": [
      "\n",
      "Unfeasible Heat Cascade: \n",
      "Interval 0 : {'deltaH': 0.0, 'exitH': 0.0}\n",
      "Interval 1 : {'deltaH': 42.67488, 'exitH': 42.67488}\n",
      "Interval 2 : {'deltaH': -9.257116362068, 'exitH': 33.417763637932}\n",
      "Interval 3 : {'deltaH': -2.1223116379319986, 'exitH': 31.295451999999997}\n",
      "Interval 4 : {'deltaH': -300.78311681250227, 'exitH': -269.48766481250226}\n",
      "Interval 5 : {'deltaH': -22.187292313872, 'exitH': -291.67495712637424}\n",
      "Interval 6 : {'deltaH': 245.0249622358922, 'exitH': -46.64999489048205}\n",
      "Interval 7 : {'deltaH': 321.764, 'exitH': 275.11400510951796}\n",
      "Interval 8 : {'deltaH': 203.44400257494814, 'exitH': 478.55800768446613}\n",
      "Interval 9 : {'deltaH': 43.67091875919784, 'exitH': 522.228926443664}\n",
      "Interval 10 : {'deltaH': 141.25457952828006, 'exitH': 663.483505971944}\n",
      "Interval 11 : {'deltaH': 79.85019298932002, 'exitH': 743.3336989612641}\n",
      "Interval 12 : {'deltaH': 494.50460701068, 'exitH': 1237.838305971944}\n",
      "Interval 13 : {'deltaH': 5.711946969453951, 'exitH': 1243.550252941398}\n",
      "Interval 14 : {'deltaH': 467.170939861578, 'exitH': 1710.721192802976}\n",
      "Interval 15 : {'deltaH': 213.14960546208783, 'exitH': 1923.870798265064}\n",
      "Interval 16 : {'deltaH': 382.91004029378007, 'exitH': 2306.780838558844}\n",
      "Interval 17 : {'deltaH': 134.15514024653, 'exitH': 2440.9359788053744}\n",
      "Interval 18 : {'deltaH': 20.345440309038008, 'exitH': 2461.2814191144125}\n",
      "Interval 19 : {'deltaH': 19.906635756656996, 'exitH': 2481.1880548710697}\n",
      "Interval 20 : {'deltaH': 130.044729179772, 'exitH': 2611.2327840508415}\n",
      "\n",
      "Feasible Heat Cascade: \n",
      "Interval 0 : {'deltaH': 0.0, 'exitH': 291.67495712637424}\n",
      "Interval 1 : {'deltaH': 42.67488, 'exitH': 334.34983712637427}\n",
      "Interval 2 : {'deltaH': -9.257116362068, 'exitH': 325.09272076430625}\n",
      "Interval 3 : {'deltaH': -2.1223116379319986, 'exitH': 322.97040912637425}\n",
      "Interval 4 : {'deltaH': -300.78311681250227, 'exitH': 22.18729231387198}\n",
      "Interval 5 : {'deltaH': -22.187292313872, 'exitH': -2.1316282072803006e-14}\n",
      "Interval 6 : {'deltaH': 245.0249622358922, 'exitH': 245.02496223589216}\n",
      "Interval 7 : {'deltaH': 321.764, 'exitH': 566.7889622358922}\n",
      "Interval 8 : {'deltaH': 203.44400257494814, 'exitH': 770.2329648108404}\n",
      "Interval 9 : {'deltaH': 43.67091875919784, 'exitH': 813.9038835700383}\n",
      "Interval 10 : {'deltaH': 141.25457952828006, 'exitH': 955.1584630983183}\n",
      "Interval 11 : {'deltaH': 79.85019298932002, 'exitH': 1035.0086560876384}\n",
      "Interval 12 : {'deltaH': 494.50460701068, 'exitH': 1529.5132630983185}\n",
      "Interval 13 : {'deltaH': 5.711946969453951, 'exitH': 1535.2252100677724}\n",
      "Interval 14 : {'deltaH': 467.170939861578, 'exitH': 2002.3961499293505}\n",
      "Interval 15 : {'deltaH': 213.14960546208783, 'exitH': 2215.5457553914384}\n",
      "Interval 16 : {'deltaH': 382.91004029378007, 'exitH': 2598.4557956852186}\n",
      "Interval 17 : {'deltaH': 134.15514024653, 'exitH': 2732.610935931749}\n",
      "Interval 18 : {'deltaH': 20.345440309038008, 'exitH': 2752.956376240787}\n",
      "Interval 19 : {'deltaH': 19.906635756656996, 'exitH': 2772.863011997444}\n",
      "Interval 20 : {'deltaH': 130.044729179772, 'exitH': 2902.907741177216}\n",
      "\n",
      "Pinch Temperature (degC): 190.378079\n",
      "Minimum Hot Utility (kW): 291.67495712637424\n",
      "Minimum Cold Utility (kW): 2902.907741177216\n"
     ]
    }
   ],
   "source": [
    "pinch.constructHeatCascade()\n",
    "pinch.showPlots()"
   ]
  },
  {
   "cell_type": "markdown",
   "metadata": {},
   "source": [
    "All Hot Streams and Cold Streams can be combined into Hot and Cold Composite Streams, respectively:\n",
    "\n",
    "$\\Delta H_{HOT} = CP_{HOT} \\times \\Delta T_i$\n",
    "$\\Delta H_{COLD} = CP_{COLD} \\times \\Delta T_i$\n",
    "\n",
    "Where $CP_{HOT}$ is the sum of the Hot Streams' CPs on a given temperature interval $T_i$. Analog for $CP_{COLD}$.\n",
    "Using this information, the Shifted Temperature-Enthalpy Composite Diagram can be constructed.\n",
    "\n",
    "The minimum cold utility $Q_{Cmin}$ (kW) is shaded in blue, while the minimum hot utility $Q_{Hmin}$ is shaded in red. These areas correspond to the regions in which no heat exchange can take place: where the graphs do not superimpose. \n",
    "\n",
    "The Pinch point is the point of closest approach between the two composite curves. It is shown with a dotted line. The Pinch point Temperature $T_{pinch}$ corresponds to the one found in the Heat Cascade."
   ]
  },
  {
   "cell_type": "code",
   "execution_count": 6,
   "metadata": {},
   "outputs": [
    {
     "name": "stdout",
     "output_type": "stream",
     "text": [
      "\n",
      "Shifted Composite Diagram Values: \n",
      "DeltaH Hot: [214.92564800612402, 52.34104360136699, 53.494804010178015, 356.632846989822, 598.1925420624221, 483.6316279375778, 606.899557530774, 11.285682469225906, 757.3662676321279, 122.29581236787202, 216.3406612730881, 193.44235360102329, 909.7101051258885, 699.39462, 629.7942925948414, 376.83398757765565, 5108.5684409370215, 0.0, 0.0, 42.67488, 0.0]\n",
      "DeltaH Cold: [84.88091882635202, 32.434407844709995, 33.14936370114001, 222.477706743292, 215.28250176864208, 270.4820224754899, 139.72861766919604, 5.573735499771954, 262.861660621448, 42.44561937855201, 75.08608174480804, 149.77143484182548, 706.2661025509404, 377.63062, 384.76933035894933, 399.0212798915277, 5409.351557749524, 2.1223116379319986, 9.257116362068, 0.0, 0.0]\n",
      "\n",
      "Hot H: [0.0, 214.92564800612402, 267.266691607491, 320.761495617669, 677.394342607491, 1275.5868846699132, 1759.218512607491, 2366.118070138265, 2377.403752607491, 3134.7700202396186, 3257.0658326074904, 3473.4064938805786, 3666.8488474816018, 4576.55895260749, 5275.95357260749, 5905.747865202331, 6282.581852779987, 11391.150293717008, 11433.825173717009]\n",
      "Hot T: [7.011657, 19.064709, 22.0, 24.999994, 45.0, 64.353181, 80.0, 99.634877, 100.0, 117.219482, 120.0, 124.918722, 129.316828, 150.0, 170.0, 190.378079, 211.510967, 498.0, 640.0]\n",
      "\n",
      "Cold H: [2902.907741177216, 2987.788660003568, 3020.2230678482783, 3053.3724315494183, 3275.85013829271, 3491.1326400613525, 3761.6146625368424, 3901.3432802060383, 3906.91701570581, 4169.778676327258, 4212.22429570581, 4287.310377450618, 4437.081812292444, 5143.347914843384, 5520.978534843384, 5905.747865202334, 6304.769145093862, 11714.120702843386, 11716.243014481317, 11725.500130843386]\n",
      "Cold T: [7.011657, 19.064709, 22.0, 24.999994, 45.0, 64.353181, 80.0, 99.634877, 100.0, 117.219482, 120.0, 124.918722, 129.316828, 150.0, 170.0, 190.378079, 211.510967, 498.0, 520.753518, 620.0]\n"
     ]
    }
   ],
   "source": [
    "pinch.constructShiftedCompositeDiagram()\n",
    "pinch.showPlots()"
   ]
  },
  {
   "cell_type": "markdown",
   "metadata": {},
   "source": [
    "Based on the Shifted Composite diagram, the Actual Temperature-Enthalpy Composite Diagram can be constructed: the hot streams have their temperatures shifted up by $\\Delta T_{min} / 2$ and the cold streams have their temperatures shifted down by $\\Delta T_{min} / 2$. Note that this is the inverse operation from what was done in the beginning, upon calling the _shiftTemperatures_ method."
   ]
  },
  {
   "cell_type": "code",
   "execution_count": 7,
   "metadata": {},
   "outputs": [],
   "source": [
    "pinch.constructCompositeDiagram()\n",
    "pinch.showPlots()"
   ]
  },
  {
   "cell_type": "markdown",
   "metadata": {},
   "source": [
    "Based on the Net Enthalpy Change in each interval (depicted in the Problem Table), the Grand Composite Curve can be constructed. Therefore, it can be seen as the graphical representation of the Problem Table.\n",
    "\n",
    "As before, the minimum cold utility $Q_{Cmin}$ (kW) is shaded in blue, while the minimum hot utility $Q_{Hmin}$ is shaded in red.\n",
    "\n",
    "The Pinch Point corresponds to the point of zero net enthalpy change between two adjacent intervals. It is shown with a dotted line at the Pinch Temperature $T_{pinch}$."
   ]
  },
  {
   "cell_type": "code",
   "execution_count": 8,
   "metadata": {
    "scrolled": true
   },
   "outputs": [
    {
     "name": "stdout",
     "output_type": "stream",
     "text": [
      "\n",
      "Grand Composite Curve: \n",
      "Net H (kW): [291.67495712637424, 291.67495712637424, 334.34983712637427, 325.09272076430625, 322.97040912637425, 22.18729231387198, -2.1316282072803006e-14, 245.02496223589216, 566.7889622358922, 770.2329648108404, 813.9038835700383, 955.1584630983183, 1035.0086560876384, 1529.5132630983185, 1535.2252100677724, 2002.3961499293505, 2215.5457553914384, 2598.4557956852186, 2732.610935931749, 2752.956376240787, 2772.863011997444, 2902.907741177216]\n",
      "T (degC): [739.063689, 640.0, 620.0, 520.753518, 498.0, 211.510967, 190.378079, 170.0, 150.0, 129.316828, 124.918722, 120.0, 117.219482, 100.0, 99.634877, 80.0, 64.353181, 45.0, 24.999994, 22.0, 19.064709, 7.011657]\n"
     ]
    }
   ],
   "source": [
    "pinch.constructGrandCompositeCurve()\n",
    "pinch.showPlots()"
   ]
  },
  {
   "cell_type": "markdown",
   "metadata": {},
   "source": [
    "## Future Work\n",
    "\n",
    "Based on the calculated energy requirements, a _Heat Exchanger network_ can be constructed which would achieve the maximum heat recovery. This would be based upon splitting the streams' energy changes above and below the Pinch Point, with no heat exchange over it.\n",
    "\n",
    "If _energy relaxation_ is allowed (heat exchange over the Pinch Point), another Heat Exchanger network could be constructed which would reduce the number of heat exchanger units (and hence the Capital Cost) at the expense of larger Hot and Cold Utilities (and hence Running Costs). This reduction is only possible when there is a heat exchange loop over the Pinch.\n"
   ]
  },
  {
   "cell_type": "code",
   "execution_count": null,
   "metadata": {},
   "outputs": [],
   "source": []
  },
  {
   "cell_type": "code",
   "execution_count": null,
   "metadata": {},
   "outputs": [],
   "source": []
  }
 ],
 "metadata": {
  "kernelspec": {
   "display_name": "Python 3 (ipykernel)",
   "language": "python",
   "name": "python3"
  },
  "language_info": {
   "codemirror_mode": {
    "name": "ipython",
    "version": 3
   },
   "file_extension": ".py",
   "mimetype": "text/x-python",
   "name": "python",
   "nbconvert_exporter": "python",
   "pygments_lexer": "ipython3",
   "version": "3.10.9"
  }
 },
 "nbformat": 4,
 "nbformat_minor": 2
}
