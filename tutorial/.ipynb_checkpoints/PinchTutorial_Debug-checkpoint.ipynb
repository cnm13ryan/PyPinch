{
 "cells": [
  {
   "cell_type": "markdown",
   "metadata": {},
   "source": [
    "# PyPinch: a Python-based Pinch Analyser\n",
    "\n",
    "PyPinch is a lightweight Python module that applies Pinch Technology principles, analysing a given set of stream data to find the Maximum Energy Recovery (MER) target.\n",
    "\n",
    "### Input: \n",
    "A CSV set of stream data including:\n",
    "- Stream Enthalpy CP (kW / ºC)\n",
    "- Stream Supply Temperature ($T_S$)\n",
    "- Stream Target Temperature ($T_T$)\n",
    "\n",
    "And a minimum temperature difference $\\Delta T_{min}$\n",
    "\n",
    "### Output:\n",
    "Currently, PyPinch can _calculate_, _plot_, and _export as CSV_ the following:\n",
    "- The Temperature Interval Diagram\n",
    "- The Problem Table\n",
    "- The Heat Cascade\n",
    "- The Minimum Cold Utility $Q_{Cmin}$ and the Minimum Hot Utility $Q_{Hmin}$\n",
    "- The Pinch Point $T_{pinch}$\n",
    "- The Shifted Temperature-Enthalpy Composite Diagram\n",
    "- The Temperature-Enthalpy Composite Diagram\n",
    "- The Grand Composite Curve\n",
    "\n",
    "---"
   ]
  },
  {
   "cell_type": "markdown",
   "metadata": {},
   "source": [
    "## Pinch Analysis or Heat Integration\n",
    "\n",
    "Pinch analysis is a methodology for systematically finding optimum energy targets for a chemical plant. It analyses thermodynamically feasible maximum energy recovery (MER) targets for the available streams in a given plant, achieving them by optimising heat exchanger networks, energy supply methods and process operating conditions (Kemp, Ian, _Pinch Analysis and Process Integration, 2nd Edition_, 2016).\n",
    "\n",
    "It is based on the idea that all streams in a chemical plant can be combined based on their temperature intervals into _composite curves_: one for the hot streams (the ones that lose heat) and one for the cold streams (the ones that gain heat). These composite curves provide insight into the point of closest approach (the _pinch point_) and the intervals available for heat exchange. Hence the required extra heating and cooling utilities can be found.\n",
    "\n",
    "---"
   ]
  },
  {
   "cell_type": "markdown",
   "metadata": {},
   "source": [
    "# Tutorial\n",
    "\n",
    "This is a step-by-step approach to using the PyPinch module, explaining the steps along the way. A quicker approach is available in the \"usage.py\" file.\n",
    "\n",
    "First, the PyPinch class is imported from the PyPinch.py file:"
   ]
  },
  {
   "cell_type": "code",
   "execution_count": 17,
   "metadata": {},
   "outputs": [],
   "source": [
    "from PyPinch import PyPinch"
   ]
  },
  {
   "cell_type": "markdown",
   "metadata": {},
   "source": [
    "The class is then instantiated, supplying the relative path of the _CSV stream datafile_.\n",
    "\n",
    "Options can be supplied as a set:\n",
    "- 'draw': draw Matplotlib-based plots\n",
    "- 'csv': export the calculated data as CSV files\n",
    "- 'debug': print the calculated data in the command-line"
   ]
  },
  {
   "cell_type": "code",
   "execution_count": 18,
   "metadata": {},
   "outputs": [],
   "source": [
    "options = {'debug'}\n",
    "pinch = PyPinch('./streams/AEStreamTable1.csv', options)"
   ]
  },
  {
   "cell_type": "markdown",
   "metadata": {},
   "source": [
    "The _shiftTemperatures_ method is called to (guessed it) shift the supplied temperatures:\n",
    "- Hot Streams ($T_S > T_T$) shift by $- \\Delta T_{min} / 2$\n",
    "- Cold Streams ($T_S < T_T$) shift by $+ \\Delta T_{min} / 2$\n",
    "\n",
    "The _constructTemperatureInterval_ method is called to... well, construct the Temperature Interval Diagram.\n",
    "To print the in-memory plots, call _showPlots_."
   ]
  },
  {
   "cell_type": "code",
   "execution_count": 19,
   "metadata": {},
   "outputs": [
    {
     "name": "stdout",
     "output_type": "stream",
     "text": [
      "\n",
      "Streams: \n",
      "{'type': 'COLD', 'cp': 175.453272, 'ts': 93.790304, 'tt': 150.0, 'ss': 103.790304, 'st': 160.0}\n",
      "{'type': 'COLD', 'cp': 226.374457, 'ts': 124.850263, 'tt': 619.999892, 'ss': 134.85026299999998, 'st': 629.999892}\n",
      "{'type': 'COLD', 'cp': 29.584853, 'ts': 20.0, 'tt': 620.0, 'ss': 30.0, 'st': 630.0}\n",
      "{'type': 'HOT', 'cp': 124.0, 'ts': 620.0, 'tt': 2.0, 'ss': 610.0, 'st': -8.0}\n",
      "{'type': 'COLD', 'cp': 150.560459, 'ts': 0.547123, 'tt': 150.0, 'ss': 10.547123, 'st': 160.0}\n",
      "{'type': 'COLD', 'cp': 29.089416, 'ts': 20.0, 'tt': 150.0, 'ss': 30.0, 'st': 160.0}\n",
      "{'type': 'HOT', 'cp': 139.855395, 'ts': 150.0, 'tt': 25.0, 'ss': 140.0, 'st': 15.0}\n",
      "{'type': 'HOT', 'cp': 149.396949, 'ts': 25.0, 'tt': 23.100976, 'ss': 15.0, 'st': 13.100976}\n",
      "{'type': 'COLD', 'cp': 29.392114, 'ts': 24.999994, 'tt': 150.0, 'ss': 34.999994, 'st': 160.0}\n",
      "{'type': 'COLD', 'cp': 199.685133, 'ts': 20.0, 'tt': 100.0, 'ss': 30.0, 'st': 110.0}\n",
      "{'type': 'COLD', 'cp': 109.971456, 'ts': 56.389812, 'tt': 96.018129, 'ss': 66.389812, 'st': 106.018129}\n",
      "{'type': 'COLD', 'cp': 175.036024, 'ts': 61.796286, 'tt': 80.0, 'ss': 71.79628600000001, 'st': 90.0}\n",
      "{'type': 'COLD', 'cp': 142.980199, 'ts': 15.741638, 'tt': 80.0, 'ss': 25.741638000000002, 'st': 90.0}\n",
      "{'type': 'HOT', 'cp': 184.915226, 'ts': 96.189753, 'tt': 80.0, 'ss': 86.189753, 'st': 70.0}\n",
      "Tmin = 20.0\n",
      "\n",
      "Temperature Intervals: \n",
      "Interval 0 : {'t1': 630.0, 't2': 629.999892, 'streamNumbers': [2]}\n",
      "Interval 1 : {'t1': 629.999892, 't2': 610.0, 'streamNumbers': [1, 2]}\n",
      "Interval 2 : {'t1': 610.0, 't2': 160.0, 'streamNumbers': [1, 2, 3]}\n",
      "Interval 3 : {'t1': 160.0, 't2': 140.0, 'streamNumbers': [0, 1, 2, 3, 4, 5, 8]}\n",
      "Interval 4 : {'t1': 140.0, 't2': 134.85026299999998, 'streamNumbers': [0, 1, 2, 3, 4, 5, 6, 8]}\n",
      "Interval 5 : {'t1': 134.85026299999998, 't2': 110.0, 'streamNumbers': [0, 2, 3, 4, 5, 6, 8]}\n",
      "Interval 6 : {'t1': 110.0, 't2': 106.018129, 'streamNumbers': [0, 2, 3, 4, 5, 6, 8, 9]}\n",
      "Interval 7 : {'t1': 106.018129, 't2': 103.790304, 'streamNumbers': [0, 2, 3, 4, 5, 6, 8, 9, 10]}\n",
      "Interval 8 : {'t1': 103.790304, 't2': 90.0, 'streamNumbers': [2, 3, 4, 5, 6, 8, 9, 10]}\n",
      "Interval 9 : {'t1': 90.0, 't2': 86.189753, 'streamNumbers': [2, 3, 4, 5, 6, 8, 9, 10, 11, 12]}\n",
      "Interval 10 : {'t1': 86.189753, 't2': 71.79628600000001, 'streamNumbers': [2, 3, 4, 5, 6, 8, 9, 10, 11, 12, 13]}\n",
      "Interval 11 : {'t1': 71.79628600000001, 't2': 70.0, 'streamNumbers': [2, 3, 4, 5, 6, 8, 9, 10, 12, 13]}\n",
      "Interval 12 : {'t1': 70.0, 't2': 66.389812, 'streamNumbers': [2, 3, 4, 5, 6, 8, 9, 10, 12]}\n",
      "Interval 13 : {'t1': 66.389812, 't2': 34.999994, 'streamNumbers': [2, 3, 4, 5, 6, 8, 9, 12]}\n",
      "Interval 14 : {'t1': 34.999994, 't2': 30.0, 'streamNumbers': [2, 3, 4, 5, 6, 9, 12]}\n",
      "Interval 15 : {'t1': 30.0, 't2': 25.741638000000002, 'streamNumbers': [3, 4, 6, 12]}\n",
      "Interval 16 : {'t1': 25.741638000000002, 't2': 15.0, 'streamNumbers': [3, 4, 6]}\n",
      "Interval 17 : {'t1': 15.0, 't2': 13.100976, 'streamNumbers': [3, 4, 7]}\n",
      "Interval 18 : {'t1': 13.100976, 't2': 10.547123, 'streamNumbers': [3, 4]}\n",
      "Interval 19 : {'t1': 10.547123, 't2': -8.0, 'streamNumbers': [3]}\n"
     ]
    }
   ],
   "source": [
    "pinch.shiftTemperatures()\n",
    "pinch.constructTemperatureInterval()\n",
    "pinch.showPlots()"
   ]
  },
  {
   "cell_type": "markdown",
   "metadata": {},
   "source": [
    "Based on each temperature interval, the associated enthalpy changed can be calculated as:\n",
    "$\\Delta H = \\Delta CP \\times \\Delta S$\n",
    "\n",
    "Where:\n",
    "$\\Delta CP = \\Sigma CP_{HOT} - \\Sigma CP_{COLD}$\n",
    "\n",
    "All this can be summarised in a _Problem Table_, constructed using... some command."
   ]
  },
  {
   "cell_type": "code",
   "execution_count": 20,
   "metadata": {},
   "outputs": [
    {
     "name": "stdout",
     "output_type": "stream",
     "text": [
      "\n",
      "Problem Table: \n",
      "Interval 0 : {'deltaS': 0.00010799999995469989, 'deltaCP': -29.584853, 'deltaH': -0.003195164122659803}\n",
      "Interval 1 : {'deltaS': 19.999892000000045, 'deltaCP': -255.95931000000002, 'deltaH': -5119.158556394532}\n",
      "Interval 2 : {'deltaS': 450.0, 'deltaCP': -131.95931000000002, 'deltaH': -59381.68950000001}\n",
      "Interval 3 : {'deltaS': 20.0, 'deltaCP': -516.454571, 'deltaH': -10329.09142}\n",
      "Interval 4 : {'deltaS': 5.149737000000016, 'deltaCP': -376.599176, 'deltaH': -1939.386710816718}\n",
      "Interval 5 : {'deltaS': 24.850262999999984, 'deltaCP': -150.224719, 'deltaH': -3733.1237762510946}\n",
      "Interval 6 : {'deltaS': 3.981870999999998, 'deltaCP': -349.909852, 'deltaH': -1393.2958922930914}\n",
      "Interval 7 : {'deltaS': 2.2278249999999957, 'deltaCP': -459.881308, 'deltaH': -1024.535074995098}\n",
      "Interval 8 : {'deltaS': 13.790304000000006, 'deltaCP': -284.428036, 'deltaH': -3922.349082562946}\n",
      "Interval 9 : {'deltaS': 3.810247000000004, 'deltaCP': -602.444259, 'deltaH': -2295.461430521975}\n",
      "Interval 10 : {'deltaS': 14.393466999999987, 'deltaCP': -417.529033, 'deltaH': -6009.690358027406}\n",
      "Interval 11 : {'deltaS': 1.7962860000000092, 'deltaCP': -242.493009, 'deltaH': -435.58679716457624}\n",
      "Interval 12 : {'deltaS': 3.6101879999999937, 'deltaCP': -427.408235, 'deltaH': -1543.0240810981772}\n",
      "Interval 13 : {'deltaS': 31.389818000000005, 'deltaCP': -317.436779, 'deltaH': -9964.282719316223}\n",
      "Interval 14 : {'deltaS': 4.999994000000001, 'deltaCP': -288.044665, 'deltaH': -1440.2215967320103}\n",
      "Interval 15 : {'deltaS': 4.258361999999998, 'deltaCP': -29.68526300000002, 'deltaH': -126.41059591920603}\n",
      "Interval 16 : {'deltaS': 10.741638000000002, 'deltaCP': 113.29493599999998, 'deltaH': 1216.973189745168}\n",
      "Interval 17 : {'deltaS': 1.8990240000000007, 'deltaCP': 122.83649, 'deltaH': 233.2694425857601}\n",
      "Interval 18 : {'deltaS': 2.553853, 'deltaCP': -26.56045900000001, 'deltaH': -67.83150789852702}\n",
      "Interval 19 : {'deltaS': 18.547123, 'deltaCP': 124.0, 'deltaH': 2299.8432519999997}\n"
     ]
    }
   ],
   "source": [
    "pinch.constructProblemTable()\n",
    "pinch.showPlots()"
   ]
  },
  {
   "cell_type": "markdown",
   "metadata": {},
   "source": [
    "Using the enthalpy change $\\Delta H$ of each interval from the Problem Table, a Heat Cascade can be constructed. This depicts the available energy that can be passed down from each interval to the next.\n",
    "\n",
    "Using the Heat Cascade, the Minimum Hot Utility $Q_{Hmin}$, Minimum Cold Utility $Q_{Cmin}$ and the Pinch Temperature $T_{PINCH}$ (the temperature at which the energy passed is zero)."
   ]
  },
  {
   "cell_type": "code",
   "execution_count": 21,
   "metadata": {},
   "outputs": [
    {
     "name": "stdout",
     "output_type": "stream",
     "text": [
      "\n",
      "Unfeasible Heat Cascade: \n",
      "Interval 0 : {'deltaH': -0.003195164122659803, 'exitH': -0.003195164122659803}\n",
      "Interval 1 : {'deltaH': -5119.158556394532, 'exitH': -5119.161751558655}\n",
      "Interval 2 : {'deltaH': -59381.68950000001, 'exitH': -64500.85125155866}\n",
      "Interval 3 : {'deltaH': -10329.09142, 'exitH': -74829.94267155866}\n",
      "Interval 4 : {'deltaH': -1939.386710816718, 'exitH': -76769.32938237538}\n",
      "Interval 5 : {'deltaH': -3733.1237762510946, 'exitH': -80502.45315862648}\n",
      "Interval 6 : {'deltaH': -1393.2958922930914, 'exitH': -81895.74905091956}\n",
      "Interval 7 : {'deltaH': -1024.535074995098, 'exitH': -82920.28412591467}\n",
      "Interval 8 : {'deltaH': -3922.349082562946, 'exitH': -86842.63320847761}\n",
      "Interval 9 : {'deltaH': -2295.461430521975, 'exitH': -89138.09463899958}\n",
      "Interval 10 : {'deltaH': -6009.690358027406, 'exitH': -95147.78499702699}\n",
      "Interval 11 : {'deltaH': -435.58679716457624, 'exitH': -95583.37179419157}\n",
      "Interval 12 : {'deltaH': -1543.0240810981772, 'exitH': -97126.39587528975}\n",
      "Interval 13 : {'deltaH': -9964.282719316223, 'exitH': -107090.67859460597}\n",
      "Interval 14 : {'deltaH': -1440.2215967320103, 'exitH': -108530.90019133798}\n",
      "Interval 15 : {'deltaH': -126.41059591920603, 'exitH': -108657.31078725719}\n",
      "Interval 16 : {'deltaH': 1216.973189745168, 'exitH': -107440.33759751201}\n",
      "Interval 17 : {'deltaH': 233.2694425857601, 'exitH': -107207.06815492625}\n",
      "Interval 18 : {'deltaH': -67.83150789852702, 'exitH': -107274.89966282478}\n",
      "Interval 19 : {'deltaH': 2299.8432519999997, 'exitH': -104975.05641082478}\n",
      "\n",
      "Feasible Heat Cascade: \n",
      "Interval 0 : {'deltaH': -0.003195164122659803, 'exitH': 108657.30759209306}\n",
      "Interval 1 : {'deltaH': -5119.158556394532, 'exitH': 103538.14903569853}\n",
      "Interval 2 : {'deltaH': -59381.68950000001, 'exitH': 44156.45953569852}\n",
      "Interval 3 : {'deltaH': -10329.09142, 'exitH': 33827.368115698526}\n",
      "Interval 4 : {'deltaH': -1939.386710816718, 'exitH': 31887.981404881808}\n",
      "Interval 5 : {'deltaH': -3733.1237762510946, 'exitH': 28154.857628630714}\n",
      "Interval 6 : {'deltaH': -1393.2958922930914, 'exitH': 26761.561736337622}\n",
      "Interval 7 : {'deltaH': -1024.535074995098, 'exitH': 25737.026661342523}\n",
      "Interval 8 : {'deltaH': -3922.349082562946, 'exitH': 21814.677578779578}\n",
      "Interval 9 : {'deltaH': -2295.461430521975, 'exitH': 19519.2161482576}\n",
      "Interval 10 : {'deltaH': -6009.690358027406, 'exitH': 13509.525790230196}\n",
      "Interval 11 : {'deltaH': -435.58679716457624, 'exitH': 13073.93899306562}\n",
      "Interval 12 : {'deltaH': -1543.0240810981772, 'exitH': 11530.914911967442}\n",
      "Interval 13 : {'deltaH': -9964.282719316223, 'exitH': 1566.6321926512192}\n",
      "Interval 14 : {'deltaH': -1440.2215967320103, 'exitH': 126.41059591920884}\n",
      "Interval 15 : {'deltaH': -126.41059591920603, 'exitH': 2.8137492336099967e-12}\n",
      "Interval 16 : {'deltaH': 1216.973189745168, 'exitH': 1216.9731897451707}\n",
      "Interval 17 : {'deltaH': 233.2694425857601, 'exitH': 1450.2426323309307}\n",
      "Interval 18 : {'deltaH': -67.83150789852702, 'exitH': 1382.4111244324038}\n",
      "Interval 19 : {'deltaH': 2299.8432519999997, 'exitH': 3682.2543764324037}\n",
      "\n",
      "Pinch Temperature (degC): 25.741638000000002\n",
      "Minimum Hot Utility (kW): 108657.31078725719\n",
      "Minimum Cold Utility (kW): 3682.2543764324037\n"
     ]
    }
   ],
   "source": [
    "pinch.constructHeatCascade()\n",
    "pinch.showPlots()"
   ]
  },
  {
   "cell_type": "markdown",
   "metadata": {},
   "source": [
    "All Hot Streams and Cold Streams can be combined into Hot and Cold Composite Streams, respectively:\n",
    "\n",
    "$\\Delta H_{HOT} = CP_{HOT} \\times \\Delta T_i$\n",
    "$\\Delta H_{COLD} = CP_{COLD} \\times \\Delta T_i$\n",
    "\n",
    "Where $CP_{HOT}$ is the sum of the Hot Streams' CPs on a given temperature interval $T_i$. Analog for $CP_{COLD}$.\n",
    "Using this information, the Shifted Temperature-Enthalpy Composite Diagram can be constructed.\n",
    "\n",
    "The minimum cold utility $Q_{Cmin}$ (kW) is shaded in blue, while the minimum hot utility $Q_{Hmin}$ is shaded in red. These areas correspond to the regions in which no heat exchange can take place: where the graphs do not superimpose. \n",
    "\n",
    "The Pinch point is the point of closest approach between the two composite curves. It is shown with a dotted line. The Pinch point Temperature $T_{pinch}$ corresponds to the one found in the Heat Cascade."
   ]
  },
  {
   "cell_type": "code",
   "execution_count": 22,
   "metadata": {},
   "outputs": [
    {
     "name": "stdout",
     "output_type": "stream",
     "text": [
      "\n",
      "Shifted Composite Diagram Values: \n",
      "DeltaH Hot: [2299.8432519999997, 316.677772, 519.1873676777763, 2834.2391374370104, 1123.5917875629896, 1319.27539186763, 8282.372827368112, 952.5675807642583, 806.1203837136101, 6459.365123933001, 1005.354227232566, 3638.6461090900816, 587.8236453658739, 1050.6381455440444, 6556.87595971888, 1358.7858902811192, 2480.0, 55800.0, 0.0, 0.0]\n",
      "DeltaH Cold: [0.0, 384.50927989852704, 285.9179250920161, 1617.2659476918423, 1250.0023834821955, 2759.4969885996406, 18246.65554668434, 2495.591661862436, 1241.7071808781864, 12469.055481960408, 3300.8156577545415, 7560.995191653028, 1612.358720360972, 2443.934037837136, 10289.999735969976, 3298.1726010978373, 12809.09142, 115181.68950000001, 5119.158556394532, 0.003195164122659803]\n",
      "\n",
      "Hot H: [0.0, 2299.8432519999997, 2616.5210239999997, 3135.708391677776, 5969.947529114786, 7093.539316677776, 8412.814708545406, 16695.187535913516, 17647.755116677774, 18453.875500391383, 24913.240624324382, 25918.594851556947, 29557.24096064703, 30145.064606012904, 31195.70275155695, 37752.578711275826, 39111.36460155695, 41591.36460155695, 97391.36460155694]\n",
      "Hot T: [-8.0, 10.547123, 13.100976, 15.0, 25.741638000000002, 30.0, 34.999994, 66.389812, 70.0, 71.79628600000001, 86.189753, 90.0, 103.790304, 106.018129, 110.0, 134.85026299999998, 140.0, 160.0, 610.0]\n",
      "\n",
      "Cold H: [3682.2543764324037, 4066.7636563309306, 4352.681581422947, 5969.947529114789, 7219.949912596985, 9979.446901196625, 28226.102447880963, 30721.6941097434, 31963.401290621587, 44432.456772581994, 47733.27243033654, 55294.267621989566, 56906.62634235054, 59350.56038018767, 69640.56011615765, 72938.73271725548, 85747.82413725548, 200929.51363725547, 206048.67219365, 206048.67538881412]\n",
      "Cold T: [-8.0, 13.100976, 15.0, 25.741638000000002, 30.0, 34.999994, 66.389812, 70.0, 71.79628600000001, 86.189753, 90.0, 103.790304, 106.018129, 110.0, 134.85026299999998, 140.0, 160.0, 610.0, 629.999892, 630.0]\n"
     ]
    }
   ],
   "source": [
    "pinch.constructShiftedCompositeDiagram()\n",
    "pinch.showPlots()"
   ]
  },
  {
   "cell_type": "markdown",
   "metadata": {},
   "source": [
    "Based on the Shifted Composite diagram, the Actual Temperature-Enthalpy Composite Diagram can be constructed: the hot streams have their temperatures shifted up by $\\Delta T_{min} / 2$ and the cold streams have their temperatures shifted down by $\\Delta T_{min} / 2$. Note that this is the inverse operation from what was done in the beginning, upon calling the _shiftTemperatures_ method."
   ]
  },
  {
   "cell_type": "code",
   "execution_count": 23,
   "metadata": {},
   "outputs": [],
   "source": [
    "pinch.constructCompositeDiagram()\n",
    "pinch.showPlots()"
   ]
  },
  {
   "cell_type": "markdown",
   "metadata": {},
   "source": [
    "Based on the Net Enthalpy Change in each interval (depicted in the Problem Table), the Grand Composite Curve can be constructed. Therefore, it can be seen as the graphical representation of the Problem Table.\n",
    "\n",
    "As before, the minimum cold utility $Q_{Cmin}$ (kW) is shaded in blue, while the minimum hot utility $Q_{Hmin}$ is shaded in red.\n",
    "\n",
    "The Pinch Point corresponds to the point of zero net enthalpy change between two adjacent intervals. It is shown with a dotted line at the Pinch Temperature $T_{pinch}$."
   ]
  },
  {
   "cell_type": "code",
   "execution_count": 24,
   "metadata": {
    "scrolled": true
   },
   "outputs": [
    {
     "name": "stdout",
     "output_type": "stream",
     "text": [
      "\n",
      "Grand Composite Curve: \n",
      "Net H (kW): [108657.31078725719, 108657.30759209306, 103538.14903569853, 44156.45953569852, 33827.368115698526, 31887.981404881808, 28154.857628630714, 26761.561736337622, 25737.026661342523, 21814.677578779578, 19519.2161482576, 13509.525790230196, 13073.93899306562, 11530.914911967442, 1566.6321926512192, 126.41059591920884, 2.8137492336099967e-12, 1216.9731897451707, 1450.2426323309307, 1382.4111244324038, 3682.2543764324037]\n",
      "T (degC): [630.0, 629.999892, 610.0, 160.0, 140.0, 134.85026299999998, 110.0, 106.018129, 103.790304, 90.0, 86.189753, 71.79628600000001, 70.0, 66.389812, 34.999994, 30.0, 25.741638000000002, 15.0, 13.100976, 10.547123, -8.0]\n"
     ]
    }
   ],
   "source": [
    "pinch.constructGrandCompositeCurve()\n",
    "pinch.showPlots()"
   ]
  },
  {
   "cell_type": "markdown",
   "metadata": {},
   "source": [
    "## Future Work\n",
    "\n",
    "Based on the calculated energy requirements, a _Heat Exchanger network_ can be constructed which would achieve the maximum heat recovery. This would be based upon splitting the streams' energy changes above and below the Pinch Point, with no heat exchange over it.\n",
    "\n",
    "If _energy relaxation_ is allowed (heat exchange over the Pinch Point), another Heat Exchanger network could be constructed which would reduce the number of heat exchanger units (and hence the Capital Cost) at the expense of larger Hot and Cold Utilities (and hence Running Costs). This reduction is only possible when there is a heat exchange loop over the Pinch.\n"
   ]
  },
  {
   "cell_type": "code",
   "execution_count": null,
   "metadata": {},
   "outputs": [],
   "source": []
  }
 ],
 "metadata": {
  "kernelspec": {
   "display_name": "Python 3 (ipykernel)",
   "language": "python",
   "name": "python3"
  },
  "language_info": {
   "codemirror_mode": {
    "name": "ipython",
    "version": 3
   },
   "file_extension": ".py",
   "mimetype": "text/x-python",
   "name": "python",
   "nbconvert_exporter": "python",
   "pygments_lexer": "ipython3",
   "version": "3.10.9"
  }
 },
 "nbformat": 4,
 "nbformat_minor": 2
}
