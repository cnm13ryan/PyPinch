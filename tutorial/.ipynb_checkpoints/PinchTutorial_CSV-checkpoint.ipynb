{
 "cells": [
  {
   "cell_type": "markdown",
   "metadata": {},
   "source": [
    "# PyPinch: a Python-based Pinch Analyser\n",
    "\n",
    "PyPinch is a lightweight Python module that applies Pinch Technology principles, analysing a given set of stream data to find the Maximum Energy Recovery (MER) target.\n",
    "\n",
    "### Input: \n",
    "A CSV set of stream data including:\n",
    "- Stream Enthalpy CP (kW / ºC)\n",
    "- Stream Supply Temperature ($T_S$)\n",
    "- Stream Target Temperature ($T_T$)\n",
    "\n",
    "And a minimum temperature difference $\\Delta T_{min}$\n",
    "\n",
    "### Output:\n",
    "Currently, PyPinch can _calculate_, _plot_, and _export as CSV_ the following:\n",
    "- The Temperature Interval Diagram\n",
    "- The Problem Table\n",
    "- The Heat Cascade\n",
    "- The Minimum Cold Utility $Q_{Cmin}$ and the Minimum Hot Utility $Q_{Hmin}$\n",
    "- The Pinch Point $T_{pinch}$\n",
    "- The Shifted Temperature-Enthalpy Composite Diagram\n",
    "- The Temperature-Enthalpy Composite Diagram\n",
    "- The Grand Composite Curve\n",
    "\n",
    "---"
   ]
  },
  {
   "cell_type": "markdown",
   "metadata": {},
   "source": [
    "## Pinch Analysis or Heat Integration\n",
    "\n",
    "Pinch analysis is a methodology for systematically finding optimum energy targets for a chemical plant. It analyses thermodynamically feasible maximum energy recovery (MER) targets for the available streams in a given plant, achieving them by optimising heat exchanger networks, energy supply methods and process operating conditions (Kemp, Ian, _Pinch Analysis and Process Integration, 2nd Edition_, 2016).\n",
    "\n",
    "It is based on the idea that all streams in a chemical plant can be combined based on their temperature intervals into _composite curves_: one for the hot streams (the ones that lose heat) and one for the cold streams (the ones that gain heat). These composite curves provide insight into the point of closest approach (the _pinch point_) and the intervals available for heat exchange. Hence the required extra heating and cooling utilities can be found.\n",
    "\n",
    "---"
   ]
  },
  {
   "cell_type": "markdown",
   "metadata": {},
   "source": [
    "# Tutorial\n",
    "\n",
    "This is a step-by-step approach to using the PyPinch module, explaining the steps along the way. A quicker approach is available in the \"usage.py\" file.\n",
    "\n",
    "First, the PyPinch class is imported from the PyPinch.py file:"
   ]
  },
  {
   "cell_type": "code",
   "execution_count": 2,
   "metadata": {},
   "outputs": [],
   "source": [
    "from PyPinch import PyPinch"
   ]
  },
  {
   "cell_type": "markdown",
   "metadata": {},
   "source": [
    "The class is then instantiated, supplying the relative path of the _CSV stream datafile_.\n",
    "\n",
    "Options can be supplied as a set:\n",
    "- 'draw': draw Matplotlib-based plots\n",
    "- 'csv': export the calculated data as CSV files\n",
    "- 'debug': print the calculated data in the command-line"
   ]
  },
  {
   "cell_type": "code",
   "execution_count": 3,
   "metadata": {},
   "outputs": [],
   "source": [
    "options = {'csv'}\n",
    "pinch = PyPinch('./streams/AEStreamTable1.csv', options)"
   ]
  },
  {
   "cell_type": "markdown",
   "metadata": {},
   "source": [
    "The _shiftTemperatures_ method is called to (guessed it) shift the supplied temperatures:\n",
    "- Hot Streams ($T_S > T_T$) shift by $- \\Delta T_{min} / 2$\n",
    "- Cold Streams ($T_S < T_T$) shift by $+ \\Delta T_{min} / 2$\n",
    "\n",
    "The _constructTemperatureInterval_ method is called to... well, construct the Temperature Interval Diagram.\n",
    "To print the in-memory plots, call _showPlots_."
   ]
  },
  {
   "cell_type": "code",
   "execution_count": 4,
   "metadata": {},
   "outputs": [],
   "source": [
    "pinch.shiftTemperatures()\n",
    "pinch.constructTemperatureInterval()\n",
    "pinch.showPlots()"
   ]
  },
  {
   "cell_type": "markdown",
   "metadata": {},
   "source": [
    "Based on each temperature interval, the associated enthalpy changed can be calculated as:\n",
    "$\\Delta H = \\Delta CP \\times \\Delta S$\n",
    "\n",
    "Where:\n",
    "$\\Delta CP = \\Sigma CP_{HOT} - \\Sigma CP_{COLD}$\n",
    "\n",
    "All this can be summarised in a _Problem Table_, constructed using... some command."
   ]
  },
  {
   "cell_type": "code",
   "execution_count": 5,
   "metadata": {},
   "outputs": [],
   "source": [
    "pinch.constructProblemTable()\n",
    "pinch.showPlots()"
   ]
  },
  {
   "cell_type": "markdown",
   "metadata": {},
   "source": [
    "Using the enthalpy change $\\Delta H$ of each interval from the Problem Table, a Heat Cascade can be constructed. This depicts the available energy that can be passed down from each interval to the next.\n",
    "\n",
    "Using the Heat Cascade, the Minimum Hot Utility $Q_{Hmin}$, Minimum Cold Utility $Q_{Cmin}$ and the Pinch Temperature $T_{PINCH}$ (the temperature at which the energy passed is zero)."
   ]
  },
  {
   "cell_type": "code",
   "execution_count": 6,
   "metadata": {},
   "outputs": [],
   "source": [
    "pinch.constructHeatCascade()\n",
    "pinch.showPlots()"
   ]
  },
  {
   "cell_type": "markdown",
   "metadata": {},
   "source": [
    "All Hot Streams and Cold Streams can be combined into Hot and Cold Composite Streams, respectively:\n",
    "\n",
    "$\\Delta H_{HOT} = CP_{HOT} \\times \\Delta T_i$\n",
    "$\\Delta H_{COLD} = CP_{COLD} \\times \\Delta T_i$\n",
    "\n",
    "Where $CP_{HOT}$ is the sum of the Hot Streams' CPs on a given temperature interval $T_i$. Analog for $CP_{COLD}$.\n",
    "Using this information, the Shifted Temperature-Enthalpy Composite Diagram can be constructed.\n",
    "\n",
    "The minimum cold utility $Q_{Cmin}$ (kW) is shaded in blue, while the minimum hot utility $Q_{Hmin}$ is shaded in red. These areas correspond to the regions in which no heat exchange can take place: where the graphs do not superimpose. \n",
    "\n",
    "The Pinch point is the point of closest approach between the two composite curves. It is shown with a dotted line. The Pinch point Temperature $T_{pinch}$ corresponds to the one found in the Heat Cascade."
   ]
  },
  {
   "cell_type": "code",
   "execution_count": 7,
   "metadata": {},
   "outputs": [],
   "source": [
    "pinch.constructShiftedCompositeDiagram()\n",
    "pinch.showPlots()"
   ]
  },
  {
   "cell_type": "markdown",
   "metadata": {},
   "source": [
    "Based on the Shifted Composite diagram, the Actual Temperature-Enthalpy Composite Diagram can be constructed: the hot streams have their temperatures shifted up by $\\Delta T_{min} / 2$ and the cold streams have their temperatures shifted down by $\\Delta T_{min} / 2$. Note that this is the inverse operation from what was done in the beginning, upon calling the _shiftTemperatures_ method."
   ]
  },
  {
   "cell_type": "code",
   "execution_count": 8,
   "metadata": {},
   "outputs": [],
   "source": [
    "pinch.constructCompositeDiagram()\n",
    "pinch.showPlots()"
   ]
  },
  {
   "cell_type": "markdown",
   "metadata": {},
   "source": [
    "Based on the Net Enthalpy Change in each interval (depicted in the Problem Table), the Grand Composite Curve can be constructed. Therefore, it can be seen as the graphical representation of the Problem Table.\n",
    "\n",
    "As before, the minimum cold utility $Q_{Cmin}$ (kW) is shaded in blue, while the minimum hot utility $Q_{Hmin}$ is shaded in red.\n",
    "\n",
    "The Pinch Point corresponds to the point of zero net enthalpy change between two adjacent intervals. It is shown with a dotted line at the Pinch Temperature $T_{pinch}$."
   ]
  },
  {
   "cell_type": "code",
   "execution_count": 9,
   "metadata": {
    "scrolled": true
   },
   "outputs": [],
   "source": [
    "pinch.constructGrandCompositeCurve()\n",
    "pinch.showPlots()"
   ]
  },
  {
   "cell_type": "markdown",
   "metadata": {},
   "source": [
    "## Future Work\n",
    "\n",
    "Based on the calculated energy requirements, a _Heat Exchanger network_ can be constructed which would achieve the maximum heat recovery. This would be based upon splitting the streams' energy changes above and below the Pinch Point, with no heat exchange over it.\n",
    "\n",
    "If _energy relaxation_ is allowed (heat exchange over the Pinch Point), another Heat Exchanger network could be constructed which would reduce the number of heat exchanger units (and hence the Capital Cost) at the expense of larger Hot and Cold Utilities (and hence Running Costs). This reduction is only possible when there is a heat exchange loop over the Pinch.\n"
   ]
  },
  {
   "cell_type": "code",
   "execution_count": null,
   "metadata": {},
   "outputs": [],
   "source": []
  },
  {
   "cell_type": "code",
   "execution_count": null,
   "metadata": {},
   "outputs": [],
   "source": []
  }
 ],
 "metadata": {
  "kernelspec": {
   "display_name": "Python 3 (ipykernel)",
   "language": "python",
   "name": "python3"
  },
  "language_info": {
   "codemirror_mode": {
    "name": "ipython",
    "version": 3
   },
   "file_extension": ".py",
   "mimetype": "text/x-python",
   "name": "python",
   "nbconvert_exporter": "python",
   "pygments_lexer": "ipython3",
   "version": "3.10.9"
  }
 },
 "nbformat": 4,
 "nbformat_minor": 2
}
